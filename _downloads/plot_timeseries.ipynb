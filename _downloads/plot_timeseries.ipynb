{
  "cells": [
    {
      "source": [
        "%matplotlib inline"
      ],
      "execution_count": null,
      "metadata": {
        "collapsed": false
      },
      "outputs": [],
      "cell_type": "code"
    },
    {
      "source": [
        "\n# Plot Timeseries Data\n\n\n\n"
      ],
      "metadata": {},
      "cell_type": "markdown"
    },
    {
      "source": [
        "import matplotlib.pyplot as plt\nimport pyam\n\nfname = 'msg_input.csv'\n\ndf = pyam.IamDataFrame(fname, encoding='ISO-8859-1')\n\ndf = (df\n      .filter({'variable': 'Emissions|CO2'})\n      .filter({'region': 'World'}, keep=False)\n      )\n\nprint(df.head())\n\nfig, ax = plt.subplots(figsize=(8, 8))\ndf.line_plot(ax=ax, color='region')\nplt.show()"
      ],
      "execution_count": null,
      "metadata": {
        "collapsed": false
      },
      "outputs": [],
      "cell_type": "code"
    }
  ],
  "nbformat_minor": 0,
  "nbformat": 4,
  "metadata": {
    "kernelspec": {
      "language": "python",
      "name": "python3",
      "display_name": "Python 3"
    },
    "language_info": {
      "file_extension": ".py",
      "codemirror_mode": {
        "version": 3,
        "name": "ipython"
      },
      "pygments_lexer": "ipython3",
      "nbconvert_exporter": "python",
      "version": "3.5.2",
      "mimetype": "text/x-python",
      "name": "python"
    }
  }
}