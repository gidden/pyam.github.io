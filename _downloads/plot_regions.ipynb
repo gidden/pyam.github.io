{
  "cells": [
    {
      "source": [
        "%matplotlib inline"
      ],
      "execution_count": null,
      "metadata": {
        "collapsed": false
      },
      "outputs": [],
      "cell_type": "code"
    },
    {
      "source": [
        "\n# Plot Regional Data\n\n\n\n"
      ],
      "metadata": {},
      "cell_type": "markdown"
    },
    {
      "source": [
        "import matplotlib.pyplot as plt\nimport pyam\n\nfname = 'msg_input.csv'\n\ndf = pyam.IamDataFrame(fname, encoding='ISO-8859-1')\n\ndf = (df\n      .filter({'variable': 'Emissions|CO2', 'year': 2050})\n      .filter({'region': 'World'}, keep=False)\n      .map_regions('iso')\n      )\n\nprint(df.head())\n\ndf.region_plot()\n\nplt.show()"
      ],
      "execution_count": null,
      "metadata": {
        "collapsed": false
      },
      "outputs": [],
      "cell_type": "code"
    }
  ],
  "nbformat_minor": 0,
  "nbformat": 4,
  "metadata": {
    "kernelspec": {
      "language": "python",
      "name": "python3",
      "display_name": "Python 3"
    },
    "language_info": {
      "file_extension": ".py",
      "codemirror_mode": {
        "version": 3,
        "name": "ipython"
      },
      "pygments_lexer": "ipython3",
      "nbconvert_exporter": "python",
      "version": "3.5.2",
      "mimetype": "text/x-python",
      "name": "python"
    }
  }
}