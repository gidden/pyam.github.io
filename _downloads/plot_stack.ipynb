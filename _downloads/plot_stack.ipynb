{
  "cells": [
    {
      "source": [
        "%matplotlib inline"
      ],
      "execution_count": null,
      "metadata": {
        "collapsed": false
      },
      "outputs": [],
      "cell_type": "code"
    },
    {
      "source": [
        "\n# Plot Data as a Stack Plot\n\n\n\n"
      ],
      "metadata": {},
      "cell_type": "markdown"
    },
    {
      "source": [
        "# sphinx_gallery_thumbnail_number = 2\nimport matplotlib.pyplot as plt\nimport pyam"
      ],
      "execution_count": null,
      "metadata": {
        "collapsed": false
      },
      "outputs": [],
      "cell_type": "code"
    },
    {
      "source": [
        "Read in some example data\n\n"
      ],
      "metadata": {},
      "cell_type": "markdown"
    },
    {
      "source": [
        "fname = 'msg_input.csv'\ndf = pyam.IamDataFrame(fname, encoding='ISO-8859-1')\nprint(df.head())"
      ],
      "execution_count": null,
      "metadata": {
        "collapsed": false
      },
      "outputs": [],
      "cell_type": "code"
    },
    {
      "source": [
        "We generated a simple stacked stack chart as below\n\n"
      ],
      "metadata": {},
      "cell_type": "markdown"
    },
    {
      "source": [
        "data = df.filter({'variable': 'Emissions|CO2|*',\n                  'level': 0,\n                  'region': 'World'})\ndata.interpolate(2015)  # some values are missing\n\nfig, ax = plt.subplots(figsize=(10, 10))\ndata.stack_plot(ax=ax)\nfig.subplots_adjust(right=0.55)\nplt.show()"
      ],
      "execution_count": null,
      "metadata": {
        "collapsed": false
      },
      "outputs": [],
      "cell_type": "code"
    },
    {
      "source": [
        "We don't just have to plot variables, any data or metadata associated with the\nIamDataFrame can be used.\n\n"
      ],
      "metadata": {},
      "cell_type": "markdown"
    },
    {
      "source": [
        "data = (df\n        .filter({'variable': 'Emissions|CO2'})\n        .filter({'region': 'World'}, keep=False)\n        )\nfig, ax = plt.subplots(figsize=(10, 10))\ndata.stack_plot(ax=ax, stack='region', cmap='tab20')\nplt.show()"
      ],
      "execution_count": null,
      "metadata": {
        "collapsed": false
      },
      "outputs": [],
      "cell_type": "code"
    }
  ],
  "nbformat_minor": 0,
  "nbformat": 4,
  "metadata": {
    "kernelspec": {
      "language": "python",
      "name": "python3",
      "display_name": "Python 3"
    },
    "language_info": {
      "file_extension": ".py",
      "codemirror_mode": {
        "version": 3,
        "name": "ipython"
      },
      "pygments_lexer": "ipython3",
      "nbconvert_exporter": "python",
      "version": "3.5.2",
      "mimetype": "text/x-python",
      "name": "python"
    }
  }
}